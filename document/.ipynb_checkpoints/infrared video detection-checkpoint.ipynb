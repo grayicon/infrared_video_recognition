{
 "cells": [
  {
   "cell_type": "markdown",
   "metadata": {},
   "source": [
    "# 1.概要设计及详细设计\n",
    "## 算法模块\n",
    "* **目标检测算法**：使用了轻量，快速,可适用于移动端的的mobilenet_SSD神经网络框架，该框架使用PASCAL VOC数据集训练，并最终得到可识别20种常见物体，实现目标分类并回归其的边界框caffe model.\n",
    "\n",
    "* **目标追踪算法**：利用回归的边界框记录物体的质心，在假设同一物体在相邻帧的质心距离最近的前提下，更新每一帧所检测到的边界框，用当前质心替换掉与之相距最近的质心，并赋予一个ID,从而实现了视频流的目标追踪。\n",
    "\n",
    "* **定位及测速算法**：基于[图像像素距离与空间距离变换公式的求解](http://www.docin.com/p-49218000.html),首先标定相机离目标的垂直距离，以及相机偏移角者两个参数，再通过将目标追踪算法实时更新得到的的目标质心坐标带入上述论文里的图像像素距离与空间距离变换公式中，可根据图像的质心像素点求得目标的实际位置点，从而实现实时定位，算法可实时输出目标的方向角和与相机的相对位置。同理，算法缓存了每个目标的所有质心历史记录，从而通过两帧画面测得的实物移动距离，除以这两帧相隔的帧数时间，再加上相机的移动速度，从而实时监测目标的移动的绝对速度。\n",
    "## 软件模块\n",
    "* **用到的第三方模块**：opencv,numpy,scipy\n",
    "* **mytrakcer.py**:该模块编写了一个类AI_Tracker,为该类编写了能够实现目标质心，目标质心历史记录缓存，目标边界框，以及目标位置，速度的实时更新的方法，并能实时注销掉设定的超过最大帧数未出现的目标，实现目标的实时追踪\n",
    "* **video_recognition.py**:该模块为主程序，通过该程序，能过实现对选定目标的分类，追踪，定位，测速，并实现可视化。该模块使用了opencv的dnn模块，该模块能部署训练好的caffe神经网络模型，从而实现后续的追踪，识别，定位功能。\n",
    "\n",
    "           "
   ]
  },
  {
   "cell_type": "markdown",
   "metadata": {},
   "source": [
    "# 2.测试报告\n",
    "* **实时目标检测，定位，检测**\n",
    "![实时目标检测，定位，测速](test_images/velocity.png)\n",
    "测速视频为：720P-60文件夹下2048001文件，该文件描述为（摄像机位置：北纬33°57′55″ 东经118°15′3″；摄像机方向：东南138度；摄像机速度0km/h）\n",
    "实时检测出选定的目标(ID:4)为汽车，实现边界框回归，实时速度22km/h,实时位置为东南163度，距离摄像头3m处。"
   ]
  },
  {
   "cell_type": "markdown",
   "metadata": {},
   "source": [
    "* **实时轨迹标记**\n",
    "![轨迹标记](test_images/tracing.png)\n"
   ]
  },
  {
   "cell_type": "markdown",
   "metadata": {},
   "source": [
    "* **动态小目标检测**\n",
    "![小目标检测](test_images/little_objects_detection.png)"
   ]
  },
  {
   "cell_type": "markdown",
   "metadata": {},
   "source": [
    "* **搜索指定目标出现帧数**\n",
    "![目标出现帧数](test_images/select_frame.png)"
   ]
  },
  {
   "cell_type": "markdown",
   "metadata": {},
   "source": [
    "* **运行速度测试**\n",
    "* *测试设备*:thinkpad E460,\n",
    "* *处理器*：Intel® Core™ i5-6200U CPU @ 2.30GHz × 4\n",
    "* *视频处理速度*：14.36 FPS "
   ]
  }
 ],
 "metadata": {
  "kernelspec": {
   "display_name": "Python 3",
   "language": "python",
   "name": "python3"
  },
  "language_info": {
   "codemirror_mode": {
    "name": "ipython",
    "version": 3
   },
   "file_extension": ".py",
   "mimetype": "text/x-python",
   "name": "python",
   "nbconvert_exporter": "python",
   "pygments_lexer": "ipython3",
   "version": "3.6.4"
  }
 },
 "nbformat": 4,
 "nbformat_minor": 2
}
